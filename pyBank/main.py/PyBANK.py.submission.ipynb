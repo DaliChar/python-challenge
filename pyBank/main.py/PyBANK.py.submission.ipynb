{
 "cells": [
  {
   "cell_type": "code",
   "execution_count": null,
   "id": "d5c563fc",
   "metadata": {},
   "outputs": [],
   "source": [
    "#importing dataset\n",
    "import pandas as pd\n",
    "import os\n",
    "import numpy as np"
   ]
  },
  {
   "cell_type": "code",
   "execution_count": null,
   "id": "22491bd9",
   "metadata": {},
   "outputs": [],
   "source": [
    "#location of csv file on my machine\n",
    "df = pd.read_csv(\"C:\\\\Users\\\\Dalit\\\\OneDrive\\\\Desktop\\\\Python Bootcamp\\\\Python Assignment 1\\\\Pybank\\\\budget_data.csv\")\n",
    "            "
   ]
  },
  {
   "cell_type": "code",
   "execution_count": null,
   "id": "5fa64517",
   "metadata": {},
   "outputs": [
    {
     "data": {
      "text/html": [
       "<div>\n",
       "<style scoped>\n",
       "    .dataframe tbody tr th:only-of-type {\n",
       "        vertical-align: middle;\n",
       "    }\n",
       "\n",
       "    .dataframe tbody tr th {\n",
       "        vertical-align: top;\n",
       "    }\n",
       "\n",
       "    .dataframe thead th {\n",
       "        text-align: right;\n",
       "    }\n",
       "</style>\n",
       "<table border=\"1\" class=\"dataframe\">\n",
       "  <thead>\n",
       "    <tr style=\"text-align: right;\">\n",
       "      <th></th>\n",
       "      <th>Date</th>\n",
       "      <th>Profit/Losses</th>\n",
       "    </tr>\n",
       "  </thead>\n",
       "  <tbody>\n",
       "    <tr>\n",
       "      <th>0</th>\n",
       "      <td>Jan-10</td>\n",
       "      <td>1088983</td>\n",
       "    </tr>\n",
       "    <tr>\n",
       "      <th>1</th>\n",
       "      <td>Feb-10</td>\n",
       "      <td>-354534</td>\n",
       "    </tr>\n",
       "    <tr>\n",
       "      <th>2</th>\n",
       "      <td>Mar-10</td>\n",
       "      <td>276622</td>\n",
       "    </tr>\n",
       "    <tr>\n",
       "      <th>3</th>\n",
       "      <td>Apr-10</td>\n",
       "      <td>-728133</td>\n",
       "    </tr>\n",
       "    <tr>\n",
       "      <th>4</th>\n",
       "      <td>May-10</td>\n",
       "      <td>852993</td>\n",
       "    </tr>\n",
       "  </tbody>\n",
       "</table>\n",
       "</div>"
      ],
      "text/plain": [
       "     Date  Profit/Losses\n",
       "0  Jan-10        1088983\n",
       "1  Feb-10        -354534\n",
       "2  Mar-10         276622\n",
       "3  Apr-10        -728133\n",
       "4  May-10         852993"
      ]
     },
     "execution_count": 3,
     "metadata": {},
     "output_type": "execute_result"
    }
   ],
   "source": [
    "#reading csv file dataset\n",
    "df.head()"
   ]
  },
  {
   "cell_type": "code",
   "execution_count": null,
   "id": "b73c37ea",
   "metadata": {},
   "outputs": [
    {
     "name": "stdout",
     "output_type": "stream",
     "text": [
      "86\n"
     ]
    }
   ],
   "source": [
    "#calculating total number of months in dataset\n",
    "print (df['Date'].count())"
   ]
  },
  {
   "cell_type": "code",
   "execution_count": null,
   "id": "701bd2e4",
   "metadata": {},
   "outputs": [
    {
     "name": "stdout",
     "output_type": "stream",
     "text": [
      "22564198\n"
     ]
    }
   ],
   "source": [
    "#calculating net total of profits and losses\n",
    "print(df['Profit/Losses'].sum())"
   ]
  },
  {
   "cell_type": "code",
   "execution_count": null,
   "id": "db1f4337",
   "metadata": {},
   "outputs": [
    {
     "name": "stdout",
     "output_type": "stream",
     "text": [
      "0           NaN\n",
      "1    -1443517.0\n",
      "2      631156.0\n",
      "3    -1004755.0\n",
      "4     1581126.0\n",
      "        ...    \n",
      "81   -1627245.0\n",
      "82     616795.0\n",
      "83     628522.0\n",
      "84      90895.0\n",
      "85    -224669.0\n",
      "Name: Profit/Losses, Length: 86, dtype: float64\n"
     ]
    }
   ],
   "source": [
    "# calculating average changes\n",
    "print (df[\"Profit/Losses\"].diff())"
   ]
  },
  {
   "cell_type": "code",
   "execution_count": null,
   "id": "b305ea58",
   "metadata": {},
   "outputs": [
    {
     "name": "stdout",
     "output_type": "stream",
     "text": [
      "1141840\n"
     ]
    }
   ],
   "source": [
    "print (df[\"Profit/Losses\"].max())"
   ]
  },
  {
   "cell_type": "code",
   "execution_count": null,
   "id": "7b9cb6b1",
   "metadata": {},
   "outputs": [
    {
     "name": "stdout",
     "output_type": "stream",
     "text": [
      "-1194133\n"
     ]
    }
   ],
   "source": [
    "print (df[\"Profit/Losses\"].min())\n"
   ]
  },
  {
   "cell_type": "code",
   "execution_count": null,
   "id": "178de83d",
   "metadata": {},
   "outputs": [
    {
     "name": "stdout",
     "output_type": "stream",
     "text": [
      "262374.3953488372\n"
     ]
    }
   ],
   "source": [
    "print (df[\"Profit/Losses\"].mean())"
   ]
  }
 ],
 "metadata": {
  "kernelspec": {
   "display_name": "Python 3 (ipykernel)",
   "language": "python",
   "name": "python3"
  },
  "language_info": {
   "codemirror_mode": {
    "name": "ipython",
    "version": 3
   },
   "file_extension": ".py",
   "mimetype": "text/x-python",
   "name": "python",
   "nbconvert_exporter": "python",
   "pygments_lexer": "ipython3",
   "version": "3.7.7"
  },
  "vscode": {
   "interpreter": {
    "hash": "b912a7f8e4a9dbc425337223193e5e0ee61fb63cb4e47cdd575d889d7ce148fd"
   }
  }
 },
 "nbformat": 4,
 "nbformat_minor": 5
}
